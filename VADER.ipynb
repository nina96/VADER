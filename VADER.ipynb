{
 "cells": [
  {
   "cell_type": "markdown",
   "id": "241e6fa0-1cf1-4766-a8d3-966567ef6b5b",
   "metadata": {},
   "source": [
    "# VADER(Valence Aware Dictionary and sEntiment Reasoner)\n",
    "\n",
    "It is a lexicon and rule based sentiment analysis. VADER uses a combination of A sentiment lexicon is a list of lexical features (e.g., words) which are generally labeled according to their semantic orientation as either positive or negative. It also tells us how much of positive and negative the sentiment is."
   ]
  },
  {
   "cell_type": "code",
   "execution_count": 1,
   "id": "2cc9a8b8-bdd6-4827-9a7a-9608cd67b377",
   "metadata": {},
   "outputs": [
    {
     "name": "stdout",
     "output_type": "stream",
     "text": [
      "Collecting VaderSentiment\n",
      "  Downloading vaderSentiment-3.3.2-py2.py3-none-any.whl (125 kB)\n",
      "Requirement already satisfied: requests in c:\\users\\naina\\anaconda3\\lib\\site-packages (from VaderSentiment) (2.27.1)\n",
      "Requirement already satisfied: idna<4,>=2.5 in c:\\users\\naina\\anaconda3\\lib\\site-packages (from requests->VaderSentiment) (3.2)\n",
      "Requirement already satisfied: certifi>=2017.4.17 in c:\\users\\naina\\anaconda3\\lib\\site-packages (from requests->VaderSentiment) (2021.10.8)\n",
      "Requirement already satisfied: charset-normalizer~=2.0.0 in c:\\users\\naina\\anaconda3\\lib\\site-packages (from requests->VaderSentiment) (2.0.4)\n",
      "Requirement already satisfied: urllib3<1.27,>=1.21.1 in c:\\users\\naina\\anaconda3\\lib\\site-packages (from requests->VaderSentiment) (1.26.7)\n",
      "Installing collected packages: VaderSentiment\n",
      "Successfully installed VaderSentiment-3.3.2\n"
     ]
    }
   ],
   "source": [
    "!pip install VaderSentiment"
   ]
  },
  {
   "cell_type": "code",
   "execution_count": 18,
   "id": "df06e4ce-9e00-494d-bf69-e43b46c14251",
   "metadata": {},
   "outputs": [],
   "source": [
    "from vaderSentiment.vaderSentiment import SentimentIntensityAnalyzer\n",
    "# function to print sentiments of the sentence.\n",
    "def sentiment_scores(sentence):\n",
    "    sent_object= SentimentIntensityAnalyzer()\n",
    "     # polarity_scores method of SentimentIntensityAnalyzer object gives a sentiment dictionary which contains pos, neg, neu, and compound scores.\n",
    "    sentiment_dict=sent_object.polarity_scores(sentence)\n",
    "    \n",
    "    print(\"Overall sentiment dictionary is : \", sentiment_dict)\n",
    "    print(\"sentence was rated as \", sentiment_dict['neg']*100, \"% Negative\")\n",
    "    print(\"sentence was rated as \", sentiment_dict['neu']*100, \"% Neutral\")\n",
    "    print(\"sentence was rated as \", sentiment_dict['pos']*100, \"% Positive\")\n",
    "    \n",
    "    print(\"Sentence Overall Rated As\", end = \" \")\n",
    "    \n",
    "    # decide sentiment as positive, negative and neutral\n",
    "    if sentiment_dict['compound']>=0.05:\n",
    "        print('positive')\n",
    "    elif sentiment_dict['compound']<=-0.05:\n",
    "        print('negative')\n",
    "    else:\n",
    "        print('Neutral')"
   ]
  },
  {
   "cell_type": "code",
   "execution_count": 19,
   "id": "a4dc473e-18ba-4afe-9070-bdbfd2077a01",
   "metadata": {},
   "outputs": [
    {
     "name": "stdout",
     "output_type": "stream",
     "text": [
      "\n",
      "1st statement :\n",
      "Overall sentiment dictionary is :  {'neg': 0.165, 'neu': 0.588, 'pos': 0.247, 'compound': 0.5267}\n",
      "sentence was rated as  16.5 % Negative\n",
      "sentence was rated as  58.8 % Neutral\n",
      "sentence was rated as  24.7 % Positive\n",
      "Sentence Overall Rated As positive\n",
      "\n",
      "2nd Statement :\n",
      "Overall sentiment dictionary is :  {'neg': 0.0, 'neu': 1.0, 'pos': 0.0, 'compound': 0.0}\n",
      "sentence was rated as  0.0 % Negative\n",
      "sentence was rated as  100.0 % Neutral\n",
      "sentence was rated as  0.0 % Positive\n",
      "Sentence Overall Rated As Neutral\n",
      "\n",
      "3rd Statement :\n",
      "Overall sentiment dictionary is :  {'neg': 0.459, 'neu': 0.541, 'pos': 0.0, 'compound': -0.5256}\n",
      "sentence was rated as  45.9 % Negative\n",
      "sentence was rated as  54.1 % Neutral\n",
      "sentence was rated as  0.0 % Positive\n",
      "Sentence Overall Rated As negative\n"
     ]
    }
   ],
   "source": [
    "#Driver code\n",
    "if __name__==\"__main__\":\n",
    "    print(\"\\n1st statement :\")\n",
    "    sentence = \"Geeks For Geeks is the best portal for \\\n",
    "                the computer science engineering students.\"\n",
    " \n",
    "    # function calling\n",
    "    sentiment_scores(sentence)\n",
    " \n",
    "    print(\"\\n2nd Statement :\")\n",
    "    sentence = \"study is going on as usual\"\n",
    "    sentiment_scores(sentence)\n",
    " \n",
    "    print(\"\\n3rd Statement :\")\n",
    "    sentence = \"I am very sad today.\"\n",
    "    sentiment_scores(sentence)"
   ]
  },
  {
   "cell_type": "markdown",
   "id": "12d80f46-b704-4693-aa84-9b7c2fc00b7a",
   "metadata": {},
   "source": [
    "The Compound score is a metric that calculates the sum of all the lexicon ratings which have been normalized between -1(most extreme negative) and +1 (most extreme positive).\n",
    "positive sentiment : (compound score >= 0.05) \n",
    "neutral sentiment : (compound score > -0.05) and (compound score < 0.05) \n",
    "negative sentiment : (compound score <= -0.05)"
   ]
  }
 ],
 "metadata": {
  "kernelspec": {
   "display_name": "Python 3 (ipykernel)",
   "language": "python",
   "name": "python3"
  },
  "language_info": {
   "codemirror_mode": {
    "name": "ipython",
    "version": 3
   },
   "file_extension": ".py",
   "mimetype": "text/x-python",
   "name": "python",
   "nbconvert_exporter": "python",
   "pygments_lexer": "ipython3",
   "version": "3.9.7"
  }
 },
 "nbformat": 4,
 "nbformat_minor": 5
}
